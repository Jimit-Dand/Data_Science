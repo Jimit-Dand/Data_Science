{
 "cells": [
  {
   "cell_type": "code",
   "execution_count": 3,
   "metadata": {},
   "outputs": [
    {
     "name": "stdout",
     "output_type": "stream",
     "text": [
      "[4, 16, 25]\n"
     ]
    }
   ],
   "source": [
    "first_list = [2, 4, 5]\n",
    "\n",
    "second_list=[x**2 for x in first_list]\n",
    "# third_list=lambda x : x**2\n",
    "# print(third_list(first_list))\n",
    "\n",
    "print(second_list)"
   ]
  },
  {
   "cell_type": "code",
   "execution_count": 5,
   "metadata": {},
   "outputs": [
    {
     "name": "stdout",
     "output_type": "stream",
     "text": [
      "['jimi', 'lee', 'Sll']\n",
      "<map object at 0x000001F07B363848>\n"
     ]
    }
   ],
   "source": [
    "num=0\n",
    "first_list = [2, 4, 5]\n",
    "input_list=[\"jimi\",\"lee\",\"Sll\"]\n",
    "print (input_list)\n",
    "count = list(map(lambda x: x[0]=='S' , input_list))\n",
    "print(count)\n"
   ]
  },
  {
   "cell_type": "code",
   "execution_count": 10,
   "metadata": {},
   "outputs": [
    {
     "name": "stdout",
     "output_type": "stream",
     "text": [
      "[5, 10, 15, 20, 25, 30, 35, 40, 45, 50]\n"
     ]
    }
   ],
   "source": [
    "input_list=[1, 2, 3, 4, 5, 6, 7, 8, 9, 10, 11, 12, 13, 14, 15, 16, 17, 18, 19, 20, 21, 22, 23, 24, 25, 26, 27, 28, 29, 30, 31, 32, 33, 34, 35, 36, 37, 38, 39, 40, 41, 42, 43, 44, 45, 46, 47, 48, 49, 50]\n",
    "y=filter(lambda x : x%5==0,input_list)\n",
    "print(list(y))"
   ]
  },
  {
   "cell_type": "code",
   "execution_count": 39,
   "metadata": {},
   "outputs": [
    {
     "name": "stdout",
     "output_type": "stream",
     "text": [
      "[2, 5, 9, 13]\n",
      "[16]\n",
      "[12, 15, 16]\n",
      "[1, 2, 4, 5, 6, 7, 9, 10, 11, 12, 13, 15, 16, 17, 18, 19]\n",
      "[1, 2, 3, 4, 5, 6, 7, 8, 9, 10, 11, 12, 13, 14, 15, 16, 17, 18, 19, 20]\n",
      "[3, 8, 14, 20]\n"
     ]
    }
   ],
   "source": [
    "input_list=[[2, 5, 9, 12, 13, 15, 16, 17, 18, 19], [2, 4, 5, 6, 7, 9, 13, 16], [1, 2, 5, 9, 10, 11, 12, 13, 15]]\n",
    "C = input_list[0]\n",
    "F = input_list[1]\n",
    "H = input_list[2]\n",
    "\n",
    "C_sets=set(C)\n",
    "F_sets=set(F)\n",
    "H_sets=set(H)\n",
    "\n",
    "print(sorted(list(C_sets&F_sets&H_sets)))\n",
    "print(sorted(list(C_sets&F_sets-H_sets)))\n",
    "print(sorted(list((C_sets&F_sets-H_sets) | (C_sets&H_sets-F_sets) | (F_sets&H_sets-C_sets))))\n",
    "\n",
    "total=list(set(C+F+H))\n",
    "print(total)\n",
    "all=list(set(range(1,21)))\n",
    "print(all)\n",
    "print(sorted(list(set(all)-set(total))))"
   ]
  },
  {
   "cell_type": "code",
   "execution_count": 3,
   "metadata": {},
   "outputs": [
    {
     "name": "stdout",
     "output_type": "stream",
     "text": [
      "[4, 16, 25]\n"
     ]
    }
   ],
   "source": [
    "first_list = [2, 4, 5]\n",
    "print(list(map(lambda x: x**2, first_list)))"
   ]
  },
  {
   "cell_type": "code",
   "execution_count": 11,
   "metadata": {},
   "outputs": [
    {
     "name": "stdout",
     "output_type": "stream",
     "text": [
      "[4, 16, 25]\n"
     ]
    }
   ],
   "source": [
    "first_list = [2,4,5]\n",
    "print(list(map(lambda x: x**2, first_list)))"
   ]
  },
  {
   "cell_type": "code",
   "execution_count": null,
   "metadata": {},
   "outputs": [],
   "source": [
    "def squareit(n):\n",
    "    return n**2\n",
    "print(list(map(squareit, first_list)))\n"
   ]
  },
  {
   "cell_type": "code",
   "execution_count": null,
   "metadata": {},
   "outputs": [],
   "source": [
    "sums_list = [3,5,9,7]\n",
    "sums_list2 = (4,5,6,7)\n",
    "print(list(map(lambda x,y : x+y, sums_list,sums_list2)))\n"
   ]
  },
  {
   "cell_type": "code",
   "execution_count": null,
   "metadata": {},
   "outputs": [],
   "source": [
    "list_of_names = ['nikola', 'james', 'albert']\n",
    "list_of_names2 = ['tesla','watt','einstein']\n",
    "proper = lambda x, y: x[0].upper()+x[1:] +' '+ y[0].upper()+y[1:]\n",
    "print(list(map(proper, list_of_names,list_of_names2)))\n"
   ]
  },
  {
   "cell_type": "code",
   "execution_count": 36,
   "metadata": {},
   "outputs": [
    {
     "name": "stdout",
     "output_type": "stream",
     "text": [
      "[3, 6, 9]\n"
     ]
    }
   ],
   "source": [
    "#Filter\n",
    "divby3 = lambda x:  x % 3 == 0\n",
    "my_list = [3,4,5,6,7,8,9]\n",
    "div = filter(divby3, my_list)\n",
    "print(list(div))\n",
    "\n"
   ]
  },
  {
   "cell_type": "code",
   "execution_count": 74,
   "metadata": {},
   "outputs": [
    {
     "ename": "TypeError",
     "evalue": "reduce() of empty sequence with no initial value",
     "output_type": "error",
     "traceback": [
      "\u001b[1;31m---------------------------------------------------------------------------\u001b[0m",
      "\u001b[1;31mTypeError\u001b[0m                                 Traceback (most recent call last)",
      "\u001b[1;32m<ipython-input-74-50a486dc098e>\u001b[0m in \u001b[0;36m<module>\u001b[1;34m()\u001b[0m\n\u001b[0;32m      1\u001b[0m \u001b[1;31m#Reduce\u001b[0m\u001b[1;33m\u001b[0m\u001b[1;33m\u001b[0m\u001b[0m\n\u001b[0;32m      2\u001b[0m \u001b[1;32mfrom\u001b[0m \u001b[0mfunctools\u001b[0m \u001b[1;32mimport\u001b[0m \u001b[0mreduce\u001b[0m\u001b[1;33m\u001b[0m\u001b[0m\n\u001b[1;32m----> 3\u001b[1;33m \u001b[0mq\u001b[0m  \u001b[1;33m=\u001b[0m \u001b[0mreduce\u001b[0m\u001b[1;33m(\u001b[0m\u001b[1;32mlambda\u001b[0m \u001b[0mx\u001b[0m\u001b[1;33m,\u001b[0m \u001b[0my\u001b[0m\u001b[1;33m:\u001b[0m \u001b[0mx\u001b[0m\u001b[1;33m+\u001b[0m\u001b[0my\u001b[0m\u001b[1;33m,\u001b[0m \u001b[0mrange\u001b[0m\u001b[1;33m(\u001b[0m\u001b[1;36m1\u001b[0m\u001b[1;33m,\u001b[0m\u001b[1;36m1\u001b[0m\u001b[1;33m)\u001b[0m\u001b[1;33m)\u001b[0m\u001b[1;33m\u001b[0m\u001b[0m\n\u001b[0m\u001b[0;32m      4\u001b[0m \u001b[0mprint\u001b[0m\u001b[1;33m(\u001b[0m\u001b[0mq\u001b[0m\u001b[1;33m)\u001b[0m\u001b[1;33m\u001b[0m\u001b[0m\n",
      "\u001b[1;31mTypeError\u001b[0m: reduce() of empty sequence with no initial value"
     ]
    }
   ],
   "source": [
    "#Reduce\n",
    "from functools import reduce\n",
    "q  = reduce(lambda x, y: x+y, range(1,1))\n",
    "print(q)\n"
   ]
  },
  {
   "cell_type": "code",
   "execution_count": 46,
   "metadata": {},
   "outputs": [
    {
     "name": "stdout",
     "output_type": "stream",
     "text": [
      "94\n"
     ]
    }
   ],
   "source": [
    "list_of_nums = [22,45,32,20,87,94,30]\n",
    "print(reduce(lambda x,y: x if x>y else y,list_of_nums))\n"
   ]
  },
  {
   "cell_type": "code",
   "execution_count": 47,
   "metadata": {},
   "outputs": [
    {
     "data": {
      "text/plain": [
       "1"
      ]
     },
     "execution_count": 47,
     "metadata": {},
     "output_type": "execute_result"
    }
   ],
   "source": [
    "((500//7) % 5) ** 3"
   ]
  },
  {
   "cell_type": "code",
   "execution_count": 48,
   "metadata": {},
   "outputs": [
    {
     "name": "stdout",
     "output_type": "stream",
     "text": [
      "[1, 2, 3, 1, 2, 3]\n"
     ]
    }
   ],
   "source": [
    " L = [1, 2, 3]\n",
    "print(L*2)"
   ]
  },
  {
   "cell_type": "code",
   "execution_count": 49,
   "metadata": {},
   "outputs": [
    {
     "name": "stdout",
     "output_type": "stream",
     "text": [
      "1\n",
      "2\n",
      "3\n"
     ]
    }
   ],
   "source": [
    "D = {1:['Raj', 22], 2:['Simran', 21], 3:['Rahul', 40]}\n",
    "for val in D:\n",
    "     print(val)"
   ]
  },
  {
   "cell_type": "code",
   "execution_count": 50,
   "metadata": {},
   "outputs": [
    {
     "name": "stdout",
     "output_type": "stream",
     "text": [
      "[[7, 8, 9, 10]]\n"
     ]
    }
   ],
   "source": [
    "L = [[1, 2, 3], [4, 5, 6], [7, 8, 9, 10]]\n",
    "print(L[2:])"
   ]
  },
  {
   "cell_type": "code",
   "execution_count": 63,
   "metadata": {},
   "outputs": [
    {
     "name": "stdout",
     "output_type": "stream",
     "text": [
      "love\n",
      "love\n"
     ]
    }
   ],
   "source": [
    "S = \"I love Python\"\n",
    "print(S[2:6])\n",
    "print(S[-11:-7])"
   ]
  },
  {
   "cell_type": "code",
   "execution_count": 78,
   "metadata": {},
   "outputs": [
    {
     "name": "stdout",
     "output_type": "stream",
     "text": [
      "2\n",
      "2\n"
     ]
    }
   ],
   "source": [
    "n = int(input())\n",
    "\n",
    "# Import the reduce() function\n",
    "from functools import reduce\n",
    "print(reduce(lambda x,y : 1 if x==y else x*y,range(1,n+1)))\n",
    "# Write your code here"
   ]
  },
  {
   "cell_type": "code",
   "execution_count": null,
   "metadata": {},
   "outputs": [],
   "source": []
  },
  {
   "cell_type": "code",
   "execution_count": 105,
   "metadata": {},
   "outputs": [
    {
     "name": "stdout",
     "output_type": "stream",
     "text": [
      "2\n",
      "5\n",
      "9\n",
      "13\n"
     ]
    }
   ],
   "source": [
    "C = [2, 5, 9, 12, 13, 15, 16, 17, 18, 19]\n",
    "F = [2, 4, 5, 6, 7, 9, 13, 16]\n",
    "H = [1, 2, 5, 9, 10, 11, 12, 13, 15] \n",
    "\n",
    "a=[]\n",
    "\n",
    "for i in C:\n",
    "    for j in F:\n",
    "        if i!=j:\n",
    "            continue\n",
    "        else :\n",
    "            for k in H:\n",
    "                if k!=i:\n",
    "                    continue\n",
    "                else:\n",
    "                    print (i)\n",
    "                    "
   ]
  },
  {
   "cell_type": "code",
   "execution_count": 141,
   "metadata": {},
   "outputs": [
    {
     "name": "stdout",
     "output_type": "stream",
     "text": [
      "[]\n",
      "[2, 6, 11, 12, 13]\n",
      "[2, 6, 13]\n",
      "[3, 5]\n",
      "[3, 5, 8, 16]\n",
      "[]\n"
     ]
    }
   ],
   "source": [
    "#C = [2, 5, 9, 12, 13, 15, 16, 17, 18, 19]\n",
    "#F = [2, 4, 5, 6, 7, 9, 13, 16]\n",
    "#H = [1, 2, 5, 9, 10, 11, 12, 13, 15] \n",
    "\n",
    "C = [1, 2, 3, 4, 5, 6, 8, 9, 13, 16]\n",
    "F = [2, 3, 5, 6, 11, 12, 13, 14, 17, 19, 20]\n",
    "H = [2, 6, 7, 8, 10, 11, 12, 13, 15, 16, 18] \n",
    "\n",
    "##convert list to sets\n",
    "C_sets=set(C)\n",
    "F_sets=set(F)\n",
    "H_sets=set(H)\n",
    "\n",
    "##students play C and F\n",
    "CF=C_sets.intersection(F_sets)\n",
    "##students play C, F and H\n",
    "CFH=CF.intersection(H_sets)\n",
    "##students play C and F but not H\n",
    "CFHm=CF.difference(H_sets)\n",
    "\n",
    "FH=F_sets.intersection(H_sets)\n",
    "FHC=FH.intersection(C_sets)\n",
    "FHCm=FH.difference(C_sets)\n",
    "print(list(FHCm))\n",
    "print(list(FHC))\n",
    "\n",
    "CH=C_sets.intersection(H_sets)\n",
    "CHF=CH.intersection(F_sets)\n",
    "CHFm=CH.difference(F_sets)\n",
    "\n",
    "##create list and set for all students 1 to 20\n",
    "ALL=[x for x in range (1,21)]\n",
    "ALL_sets=set(ALL)\n",
    "\n",
    "##join all C H and F list and convert into set\n",
    "ALL_CHF=C+H+F\n",
    "ALL_CHF_sets=set(ALL_CHF)\n",
    "\n",
    "##students who play nothing\n",
    "NO_CHF=ALL_sets.difference(ALL_CHF_sets)\n",
    "\n",
    "\n",
    "##print list converted from sets and sorted \n",
    "print(sorted(list(CFH)))\n",
    "\n",
    "print(sorted(list(CFHm)))\n",
    "\n",
    "print(sorted(list(CFHm)+list(FHCm)+list(CHFm)))\n",
    "\n",
    "print (sorted(list(NO_CHF)))\n"
   ]
  },
  {
   "cell_type": "code",
   "execution_count": null,
   "metadata": {},
   "outputs": [],
   "source": []
  }
 ],
 "metadata": {
  "anaconda-cloud": {},
  "kernelspec": {
   "display_name": "Python 3",
   "language": "python",
   "name": "python3"
  },
  "language_info": {
   "codemirror_mode": {
    "name": "ipython",
    "version": 3
   },
   "file_extension": ".py",
   "mimetype": "text/x-python",
   "name": "python",
   "nbconvert_exporter": "python",
   "pygments_lexer": "ipython3",
   "version": "3.7.7"
  }
 },
 "nbformat": 4,
 "nbformat_minor": 1
}
