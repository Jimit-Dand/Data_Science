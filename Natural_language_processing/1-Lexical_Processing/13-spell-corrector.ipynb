{
 "cells": [
  {
   "cell_type": "code",
   "execution_count": 1,
   "metadata": {},
   "outputs": [],
   "source": [
    "import re\n",
    "from collections import Counter"
   ]
  },
  {
   "cell_type": "code",
   "execution_count": 2,
   "metadata": {},
   "outputs": [],
   "source": [
    "# function to tokenise words\n",
    "def words(document):\n",
    "    \"Convert text to lower case and tokenise the document\"\n",
    "    return re.findall(r'\\w+', document.lower())"
   ]
  },
  {
   "cell_type": "code",
   "execution_count": 3,
   "metadata": {},
   "outputs": [],
   "source": [
    "# create a frequency table of all the words of the document\n",
    "all_words = Counter(words(open('big.txt').read()))"
   ]
  },
  {
   "cell_type": "code",
   "execution_count": 4,
   "metadata": {},
   "outputs": [
    {
     "data": {
      "text/plain": [
       "135"
      ]
     },
     "execution_count": 4,
     "metadata": {},
     "output_type": "execute_result"
    }
   ],
   "source": [
    "# check frequency of a random word, say, 'chair'\n",
    "all_words['chair']"
   ]
  },
  {
   "cell_type": "code",
   "execution_count": 5,
   "metadata": {},
   "outputs": [
    {
     "data": {
      "text/plain": [
       "[('the', 79809),\n",
       " ('of', 40024),\n",
       " ('and', 38312),\n",
       " ('to', 28765),\n",
       " ('in', 22023),\n",
       " ('a', 21124),\n",
       " ('that', 12512),\n",
       " ('he', 12401),\n",
       " ('was', 11410),\n",
       " ('it', 10681)]"
      ]
     },
     "execution_count": 5,
     "metadata": {},
     "output_type": "execute_result"
    }
   ],
   "source": [
    "# look at top 10 frequent words\n",
    "all_words.most_common(10)"
   ]
  },
  {
   "cell_type": "code",
   "execution_count": 6,
   "metadata": {},
   "outputs": [],
   "source": [
    "def edits_one(word):\n",
    "    \"Create all edits that are one edit away from `word`.\"\n",
    "    alphabets    = 'abcdefghijklmnopqrstuvwxyz'\n",
    "    splits     = [(word[:i], word[i:])                   for i in range(len(word) + 1)]\n",
    "    deletes    = [left + right[1:]                       for left, right in splits if right]\n",
    "    inserts    = [left + c + right                       for left, right in splits for c in alphabets]\n",
    "    replaces   = [left + c + right[1:]                   for left, right in splits if right for c in alphabets]\n",
    "    transposes = [left + right[1] + right[0] + right[2:] for left, right in splits if len(right)>1]\n",
    "    return set(deletes + inserts + replaces + transposes)"
   ]
  },
  {
   "cell_type": "code",
   "execution_count": 7,
   "metadata": {},
   "outputs": [],
   "source": [
    "def edits_two(word):\n",
    "    \"Create all edits that are two edits away from `word`.\"\n",
    "    return (e2 for e1 in edits_one(word) for e2 in edits_one(e1))"
   ]
  },
  {
   "cell_type": "code",
   "execution_count": 8,
   "metadata": {},
   "outputs": [],
   "source": [
    "def known(words):\n",
    "    \"The subset of `words` that appear in the `all_words`.\"\n",
    "    return set(word for word in words if word in all_words)"
   ]
  },
  {
   "cell_type": "code",
   "execution_count": 9,
   "metadata": {},
   "outputs": [],
   "source": [
    "def possible_corrections(word):\n",
    "    \"Generate possible spelling corrections for word.\"\n",
    "    return (known([word]) or known(edits_one(word)) or known(edits_two(word)) or [word])"
   ]
  },
  {
   "cell_type": "code",
   "execution_count": 10,
   "metadata": {},
   "outputs": [],
   "source": [
    "def prob(word, N=sum(all_words.values())): \n",
    "    \"Probability of `word`: Number of appearances of 'word' / total number of tokens\"\n",
    "    return all_words[word] / N"
   ]
  },
  {
   "cell_type": "code",
   "execution_count": 11,
   "metadata": {},
   "outputs": [
    {
     "name": "stdout",
     "output_type": "stream",
     "text": [
      "286\n",
      "{'omoney', 'mouey', 'movney', 'monhy', 'monyy', 'mxoney', 'fmoney', 'mmney', 'maoney', 'monej', 'modney', 'moneey', 'mzoney', 'poney', 'monsey', 'monqey', 'modey', 'moneyg', 'moneay', 'koney', 'msoney', 'monez', 'moneyo', 'doney', 'monzey', 'moneyv', 'meney', 'mcney', 'monep', 'moneye', 'monew', 'noney', 'msney', 'roney', 'monky', 'rmoney', 'mnoey', 'mouney', 'mgoney', 'moneyk', 'mony', 'mroney', 'moaney', 'meoney', 'loney', 'moneu', 'mondey', 'moneys', 'monvy', 'moneq', 'moneyt', 'aoney', 'monel', 'mioney', 'monee', 'monery', 'cmoney', 'monely', 'goney', 'qoney', 'moneb', 'moneo', 'omney', 'mvney', 'mowney', 'monrey', 'moniy', 'monea', 'emoney', 'monvey', 'monby', 'yoney', 'monuey', 'monfy', 'moneoy', 'kmoney', 'moeney', 'coney', 'mongy', 'moneyn', 'moiey', 'moxey', 'moneky', 'mongey', 'moaey', 'monxey', 'miney', 'moneyx', 'monei', 'smoney', 'mofney', 'mojney', 'monaey', 'monoey', 'mozey', 'movey', 'zmoney', 'mvoney', 'moneuy', 'moneyj', 'boney', 'mbney', 'moneyh', 'monwey', 'monxy', 'mobey', 'mocey', 'moneyu', 'monec', 'moyey', 'voney', 'monfey', 'moneiy', 'mxney', 'monexy', 'maney', 'mnney', 'moncy', 'monmey', 'monye', 'mboney', 'monef', 'hmoney', 'moneg', 'moqney', 'bmoney', 'mozney', 'moneyb', 'monezy', 'mooey', 'mpney', 'monepy', 'muney', 'motey', 'oney', 'mrney', 'muoney', 'mokey', 'monex', 'mdney', 'moneyr', 'mloney', 'moneyy', 'myoney', 'moneyp', 'monesy', 'moneyd', 'monehy', 'monegy', 'monoy', 'monpy', 'mdoney', 'moneyw', 'gmoney', 'mtoney', 'uoney', 'mosey', 'molney', 'vmoney', 'ioney', 'monqy', 'mtney', 'morney', 'monek', 'mwoney', 'joney', 'monefy', 'monzy', 'mokney', 'momney', 'mohey', 'mooney', 'mogney', 'foney', 'mowey', 'monley', 'mohney', 'mopney', 'moneqy', 'monsy', 'montey', 'mlney', 'monbey', 'moneyq', 'zoney', 'mgney', 'monyey', 'mzney', 'eoney', 'monjy', 'monry', 'moeny', 'qmoney', 'moneyf', 'moeey', 'moneh', 'monjey', 'moneya', 'woney', 'monem', 'mofey', 'mmoney', 'monty', 'jmoney', 'mojey', 'imoney', 'monly', 'mqney', 'monety', 'xmoney', 'monney', 'moneyl', 'monevy', 'mones', 'moneyi', 'wmoney', 'monny', 'mogey', 'mosney', 'money', 'moneby', 'moey', 'monpey', 'mjoney', 'ooney', 'mkoney', 'moner', 'honey', 'mkney', 'monkey', 'ymoney', 'monen', 'moneny', 'moniey', 'monay', 'mopey', 'moneym', 'mney', 'monedy', 'pmoney', 'moneyc', 'monev', 'monuy', 'mwney', 'lmoney', 'mhoney', 'monewy', 'monhey', 'moxney', 'mone', 'monecy', 'toney', 'moqey', 'moneyz', 'mondy', 'mnoney', 'myney', 'xoney', 'mobney', 'moley', 'umoney', 'dmoney', 'moncey', 'mhney', 'moned', 'motney', 'monemy', 'mconey', 'mjney', 'monwy', 'tmoney', 'mocney', 'moiney', 'moyney', 'soney', 'momey', 'morey', 'monmy', 'mfoney', 'mfney', 'amoney', 'monet', 'monejy', 'nmoney', 'mqoney', 'mponey'}\n"
     ]
    }
   ],
   "source": [
    "print(len(set(edits_one(\"money\"))))\n",
    "print(edits_one(\"money\"))"
   ]
  },
  {
   "cell_type": "code",
   "execution_count": 12,
   "metadata": {},
   "outputs": [
    {
     "name": "stdout",
     "output_type": "stream",
     "text": [
      "{'honey', 'monkey', 'money'}\n"
     ]
    }
   ],
   "source": [
    "print(known(edits_one(\"money\")))"
   ]
  },
  {
   "cell_type": "code",
   "execution_count": 13,
   "metadata": {},
   "outputs": [
    {
     "name": "stdout",
     "output_type": "stream",
     "text": [
      "36805\n",
      "{'limit'}\n"
     ]
    }
   ],
   "source": [
    "# Let's look at words that are two edits away\n",
    "print(len(set(edits_two(\"jimit\"))))\n",
    "print(known(edits_one(\"jimit\")))"
   ]
  },
  {
   "cell_type": "code",
   "execution_count": 14,
   "metadata": {},
   "outputs": [
    {
     "name": "stdout",
     "output_type": "stream",
     "text": [
      "{'limit'}\n"
     ]
    }
   ],
   "source": [
    "# Let's look at possible corrections of a word\n",
    "print(possible_corrections(\"jimit\"))"
   ]
  },
  {
   "cell_type": "code",
   "execution_count": 15,
   "metadata": {},
   "outputs": [
    {
     "name": "stdout",
     "output_type": "stream",
     "text": [
      "0.0002922233626303688\n",
      "5.378344097491451e-06\n"
     ]
    }
   ],
   "source": [
    "# Let's look at probability of a word\n",
    "print(prob(\"money\"))\n",
    "print(prob(\"monkey\"))"
   ]
  },
  {
   "cell_type": "code",
   "execution_count": 16,
   "metadata": {},
   "outputs": [],
   "source": [
    "def spell_check(word):\n",
    "    \"Print the most probable spelling correction for `word` out of all the `possible_corrections`\"\n",
    "    correct_word = max(possible_corrections(word), key=prob)\n",
    "    if correct_word != word:\n",
    "        return \"Did you mean \" + correct_word + \"?\"\n",
    "    else:\n",
    "        return \"Correct spelling.\""
   ]
  },
  {
   "cell_type": "code",
   "execution_count": 17,
   "metadata": {},
   "outputs": [
    {
     "name": "stdout",
     "output_type": "stream",
     "text": [
      "Correct spelling.\n"
     ]
    }
   ],
   "source": [
    "# test spell check\n",
    "print(spell_check(\"monkey\"))"
   ]
  }
 ],
 "metadata": {
  "kernelspec": {
   "display_name": "Python 3 (ipykernel)",
   "language": "python",
   "name": "python3"
  },
  "language_info": {
   "codemirror_mode": {
    "name": "ipython",
    "version": 3
   },
   "file_extension": ".py",
   "mimetype": "text/x-python",
   "name": "python",
   "nbconvert_exporter": "python",
   "pygments_lexer": "ipython3",
   "version": "3.8.12"
  }
 },
 "nbformat": 4,
 "nbformat_minor": 2
}
